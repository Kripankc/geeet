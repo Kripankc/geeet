{
 "cells": [
  {
   "cell_type": "markdown",
   "metadata": {},
   "source": [
    "## Test hybrid PT-JPL functions \n",
    "\n",
    "These functions have been adapted to work both for numpy arrays and ee.Images"
   ]
  },
  {
   "cell_type": "code",
   "execution_count": 1,
   "metadata": {},
   "outputs": [],
   "source": [
    "import ee\n",
    "ee.Initialize()\n",
    "import geemap\n",
    "%load_ext autoreload\n",
    "%autoreload 2"
   ]
  },
  {
   "cell_type": "markdown",
   "metadata": {},
   "source": [
    "## compute_fwet\n",
    "\n",
    "This function computes relative surface wetness from relative humidity. First we test it with a simple numpy array:"
   ]
  },
  {
   "cell_type": "code",
   "execution_count": 45,
   "metadata": {},
   "outputs": [
    {
     "data": {
      "text/plain": [
       "array([0.07311616])"
      ]
     },
     "execution_count": 45,
     "metadata": {},
     "output_type": "execute_result"
    }
   ],
   "source": [
    "import numpy as np\n",
    "from geeet.ptjpl import compute_fwet\n",
    "compute_fwet(np.array([52])) # test with numpy array"
   ]
  },
  {
   "cell_type": "markdown",
   "metadata": {},
   "source": [
    "We now retrieve some test RH EE data, e.g. band `relative_humidity_2m_above_ground` from the [NOAA/GFS0P25](https://developers.google.com/earth-engine/datasets/catalog/NOAA_GFS0P25#bands). First we display it:"
   ]
  },
  {
   "cell_type": "code",
   "execution_count": 3,
   "metadata": {},
   "outputs": [
    {
     "data": {
      "application/vnd.jupyter.widget-view+json": {
       "model_id": "fcbf620206334ba2b9a1df4cde72a600",
       "version_major": 2,
       "version_minor": 0
      },
      "text/plain": [
       "Map(center=[30.236383, 38.530867], controls=(WidgetControl(options=['position', 'transparent_bg'], widget=HBox…"
      ]
     },
     "metadata": {},
     "output_type": "display_data"
    }
   ],
   "source": [
    "date_str='2017-04-15' \n",
    "lonlat=[38.530867, 30.236383] \n",
    "date = ee.Date(date_str)\n",
    "geom = ee.Geometry.Point(lonlat[0], lonlat[1]) # lon/lat\n",
    "\n",
    "test_img = ee.Image(\n",
    "  ee.ImageCollection('NOAA/GFS0P25')\n",
    "    .filterBounds(geom)\n",
    "    .filterDate(date,date.advance(3,'month'))\n",
    "    .sort('system:time_start')\n",
    "    .first()\n",
    "  )\n",
    "\n",
    "Map = geemap.Map(center=[lonlat[1], lonlat[0]], zoom=5)\n",
    "Map.addLayer(test_img, {'bands':['relative_humidity_2m_above_ground'],'min':0, 'max':100, 'palette':[\"440154\",\"3a528b\",\"20908d\",\"5dc962\",\"fde725\"], 'opacity': 0.8}, 'Relative humidity')\n",
    "Map"
   ]
  },
  {
   "cell_type": "markdown",
   "metadata": {},
   "source": [
    "And now we test the function. Note that we need to **select** the appropriate band:"
   ]
  },
  {
   "cell_type": "code",
   "execution_count": 4,
   "metadata": {},
   "outputs": [],
   "source": [
    "rh_band = 'relative_humidity_2m_above_ground'\n",
    "fwet_img = compute_fwet(test_img.select(rh_band), 'fwet') # input = ee.Image -> output = ee.Image\n",
    "# and we add it to the map above for visualization.\n",
    "Map.addLayer(fwet_img, {'bands':['fwet'],'min':0, 'max':1, 'palette':[\"440154\",\"3a528b\",\"20908d\",\"5dc962\",\"fde725\"], 'opacity': 0.8 }, 'computed fwet')"
   ]
  },
  {
   "cell_type": "markdown",
   "metadata": {},
   "source": [
    "## compute_fapar\n",
    "\n",
    "This function computes the fraction of the photosynthetic active radiation (PAR) absorbed by green vegetation cover."
   ]
  },
  {
   "cell_type": "code",
   "execution_count": 5,
   "metadata": {},
   "outputs": [
    {
     "data": {
      "text/plain": [
       "0.77570477625"
      ]
     },
     "execution_count": 5,
     "metadata": {},
     "output_type": "execute_result"
    }
   ],
   "source": [
    "from geeet.ptjpl import compute_fapar\n",
    "compute_fapar(0.790563821) "
   ]
  },
  {
   "cell_type": "markdown",
   "metadata": {},
   "source": [
    "We now retrieve some test NDVI data from EE, e.g. band `NDVI` from the [MODIS/MCD43A4_006_NDVI](https://developers.google.com/earth-engine/datasets/catalog/MODIS_MCD43A4_006_NDVI) dataset. First we display it:"
   ]
  },
  {
   "cell_type": "code",
   "execution_count": 6,
   "metadata": {
    "scrolled": true
   },
   "outputs": [
    {
     "data": {
      "application/vnd.jupyter.widget-view+json": {
       "model_id": "31d6a095a4964820881e80907ba0e33d",
       "version_major": 2,
       "version_minor": 0
      },
      "text/plain": [
       "Map(center=[30.236383, 38.530867], controls=(WidgetControl(options=['position', 'transparent_bg'], widget=HBox…"
      ]
     },
     "metadata": {},
     "output_type": "display_data"
    }
   ],
   "source": [
    "NDVI = ee.ImageCollection('MODIS/MCD43A4_006_NDVI') \\\n",
    "                  .filter(ee.Filter.date('2018-04-01', '2018-05-01')).first() \\\n",
    "                  .select(\"NDVI\")\n",
    "import geemap.colormaps as cm\n",
    "ndvi_palette = cm.palettes.ndvi\n",
    "Map2 = geemap.Map(center=[lonlat[1], lonlat[0]], zoom=9)\n",
    "Map2.addLayer(NDVI, {'min':0, 'max':1, 'palette':ndvi_palette, 'opacity': 0.8}, 'NDVI')\n",
    "Map2"
   ]
  },
  {
   "cell_type": "code",
   "execution_count": 7,
   "metadata": {},
   "outputs": [],
   "source": [
    "fapar = compute_fapar(NDVI, band_name = 'fapar')\n",
    "pal = cm.palettes.YlOrRd\n",
    "Map2.addLayer(fapar, {'min':0, 'max':1, 'palette':pal, 'opacity': 0.8}, 'fapar')"
   ]
  },
  {
   "cell_type": "markdown",
   "metadata": {},
   "source": [
    "## compute_fipar\n",
    "\n",
    "This function computes the fraction of the photosynthetic active radiation (PAR) intercepted by total vegetation cover. We can use the same NDVI test data."
   ]
  },
  {
   "cell_type": "code",
   "execution_count": 8,
   "metadata": {},
   "outputs": [
    {
     "data": {
      "text/plain": [
       "array(0.7405638)"
      ]
     },
     "execution_count": 8,
     "metadata": {},
     "output_type": "execute_result"
    }
   ],
   "source": [
    "from geeet.ptjpl import compute_fipar\n",
    "compute_fipar(0.7905638) "
   ]
  },
  {
   "cell_type": "code",
   "execution_count": 9,
   "metadata": {},
   "outputs": [],
   "source": [
    "fipar = compute_fipar(NDVI, band_name = 'fipar')\n",
    "Map2.addLayer(fipar, {'min':0, 'max':1, 'palette':pal, 'opacity': 0.8}, 'fipar')"
   ]
  },
  {
   "cell_type": "markdown",
   "metadata": {},
   "source": [
    "## compute_fg\n",
    "\n",
    "This function computes the green canopy fraction. We can use the same NDVI test data."
   ]
  },
  {
   "cell_type": "code",
   "execution_count": 10,
   "metadata": {},
   "outputs": [
    {
     "data": {
      "text/plain": [
       "array(0.86117534)"
      ]
     },
     "execution_count": 10,
     "metadata": {},
     "output_type": "execute_result"
    }
   ],
   "source": [
    "from geeet.ptjpl import compute_fg\n",
    "compute_fg(0.435778)"
   ]
  },
  {
   "cell_type": "code",
   "execution_count": 11,
   "metadata": {},
   "outputs": [],
   "source": [
    "fg = compute_fg(NDVI, band_name = 'fg')\n",
    "Map2.addLayer(fg, {'min':0, 'max':1, 'palette':ndvi_palette, 'opacity': 0.8}, 'fg')"
   ]
  },
  {
   "cell_type": "markdown",
   "metadata": {},
   "source": [
    "## compute_ft_arid\n",
    "This function computes the plant temperature constraint Ft.\n",
    "\n",
    "To test this, we need some air temperature data. Let's get `temperature_2m` from the `ECMWF/ERA5_LAND/HOURLY` dataset."
   ]
  },
  {
   "cell_type": "code",
   "execution_count": 12,
   "metadata": {},
   "outputs": [
    {
     "name": "stdout",
     "output_type": "stream",
     "text": [
      "2017-04-15T13:00:00\n"
     ]
    }
   ],
   "source": [
    "date_time_str='2017-04-15T13:00:00' \n",
    "date_time = ee.Date(date_time_str)\n",
    "print(date_time_str.format('z'))"
   ]
  },
  {
   "cell_type": "code",
   "execution_count": 13,
   "metadata": {
    "scrolled": true
   },
   "outputs": [
    {
     "data": {
      "application/vnd.jupyter.widget-view+json": {
       "model_id": "885506e8fa5c463ebddd96bf899bd2f8",
       "version_major": 2,
       "version_minor": 0
      },
      "text/plain": [
       "Map(center=[30.236383, 38.530867], controls=(WidgetControl(options=['position', 'transparent_bg'], widget=HBox…"
      ]
     },
     "metadata": {},
     "output_type": "display_data"
    }
   ],
   "source": [
    "climate_img = ee.Image(\n",
    "  ee.ImageCollection('ECMWF/ERA5_LAND/HOURLY')\n",
    "    .filterBounds(geom)\n",
    "    .filterDate(date,date.advance(1,'hour'))\n",
    "    .sort('system:time_start')\n",
    "    .first()\n",
    "  )\n",
    "t2m = 'temperature_2m'\n",
    "tair = climate_img.select(t2m).subtract(273.15)\n",
    "Map3 = geemap.Map(center=[lonlat[1], lonlat[0]], zoom=9)\n",
    "Map3.addLayer(tair, {'min':0, 'max':35, 'palette':pal, 'opacity': 0.8}, 'Air temperature (2m)')\n",
    "Map3"
   ]
  },
  {
   "cell_type": "code",
   "execution_count": 14,
   "metadata": {},
   "outputs": [
    {
     "data": {
      "text/plain": [
       "array(0.79760302)"
      ]
     },
     "execution_count": 14,
     "metadata": {},
     "output_type": "execute_result"
    }
   ],
   "source": [
    "from geeet.ptjpl import compute_ft_arid\n",
    "compute_ft_arid(18.8569)"
   ]
  },
  {
   "cell_type": "code",
   "execution_count": 15,
   "metadata": {},
   "outputs": [],
   "source": [
    "ft = compute_ft_arid(tair, 'ft')\n",
    "Map3.addLayer(ft,{'min':0, 'max':35, 'palette':pal, 'opacity': 0.8}, 'ft')"
   ]
  },
  {
   "cell_type": "markdown",
   "metadata": {},
   "source": [
    "## compute_fm\n",
    "\n",
    "This function computes the plant moisture constraint. It requires `f_apar` and `f_aparmax`. To easily retrieve `f_aparmax`, the function `add_fapar` can be mapped to an ee.ImageCollection. Here we demonstrate how to compute `f_aparmax` for one year of NDVI data:"
   ]
  },
  {
   "cell_type": "code",
   "execution_count": 16,
   "metadata": {},
   "outputs": [
    {
     "data": {
      "text/plain": [
       "<ee.imagecollection.ImageCollection at 0x2b206fcd970>"
      ]
     },
     "execution_count": 16,
     "metadata": {},
     "output_type": "execute_result"
    }
   ],
   "source": [
    "NDVI_one_year = ee.ImageCollection('MODIS/MCD43A4_006_NDVI') \\\n",
    "                  .filter(ee.Filter.date('2018-01-01', '2018-12-01')) \\\n",
    "                  .select(\"NDVI\")\n",
    "NDVI_one_year"
   ]
  },
  {
   "cell_type": "code",
   "execution_count": 17,
   "metadata": {},
   "outputs": [
    {
     "data": {
      "text/plain": [
       "<ee.image.Image at 0x2b208d20730>"
      ]
     },
     "execution_count": 17,
     "metadata": {},
     "output_type": "execute_result"
    }
   ],
   "source": [
    "from geeet.ptjpl import add_fapar\n",
    "fapar_max = NDVI_one_year.map(add_fapar).select('fapar').reduce(ee.Reducer.max())\n",
    "fapar_max"
   ]
  },
  {
   "cell_type": "code",
   "execution_count": 18,
   "metadata": {},
   "outputs": [],
   "source": [
    "Map2.addLayer(fapar_max, {'min':0, 'max':1, 'palette':pal, 'opacity': 0.8}, 'fapar_max')"
   ]
  },
  {
   "cell_type": "markdown",
   "metadata": {},
   "source": [
    "Now we can compute_fm:"
   ]
  },
  {
   "cell_type": "code",
   "execution_count": 19,
   "metadata": {},
   "outputs": [
    {
     "data": {
      "text/plain": [
       "array(0.92882383)"
      ]
     },
     "execution_count": 19,
     "metadata": {},
     "output_type": "execute_result"
    }
   ],
   "source": [
    "from geeet.ptjpl import compute_fm\n",
    "compute_fm(0.736, 0.7924)"
   ]
  },
  {
   "cell_type": "code",
   "execution_count": 20,
   "metadata": {},
   "outputs": [],
   "source": [
    "fm = compute_fm(fapar, fapar_max)\n",
    "Map2.addLayer(fm, {'min':0, 'max':1, 'palette':pal, 'opacity': 0.8}, 'fm')"
   ]
  },
  {
   "cell_type": "markdown",
   "metadata": {},
   "source": [
    "## compute_gamma\n",
    "\n",
    "This function computes the slope of the psychrometric constant from pressure given in Kpa. For this test, we need some pressure data. We can use the same ECMWF data:"
   ]
  },
  {
   "cell_type": "code",
   "execution_count": 21,
   "metadata": {},
   "outputs": [
    {
     "data": {
      "application/vnd.jupyter.widget-view+json": {
       "model_id": "a2ab8b4cea5449ae9a07fa755465bbb6",
       "version_major": 2,
       "version_minor": 0
      },
      "text/plain": [
       "Map(center=[30.236383, 38.530867], controls=(WidgetControl(options=['position', 'transparent_bg'], widget=HBox…"
      ]
     },
     "metadata": {},
     "output_type": "display_data"
    }
   ],
   "source": [
    "sfp = 'surface_pressure' # in Pa (see https://developers.google.com/earth-engine/datasets/catalog/ECMWF_ERA5_LAND_HOURLY#bands)\n",
    "surf = climate_img.select(sfp).divide(1000.0)  # convert from Pa to Kpa \n",
    "Map4 = geemap.Map(center=[lonlat[1], lonlat[0]], zoom=9)\n",
    "Map4.addLayer(surf, {'min':90, 'max':110, 'palette':pal, 'opacity': 0.8}, 'Surface pressure (KPa)')\n",
    "Map4"
   ]
  },
  {
   "cell_type": "code",
   "execution_count": 22,
   "metadata": {},
   "outputs": [
    {
     "data": {
      "text/plain": [
       "0.06989759826760286"
      ]
     },
     "execution_count": 22,
     "metadata": {},
     "output_type": "execute_result"
    }
   ],
   "source": [
    "from geeet.ptjpl import compute_gamma\n",
    "compute_gamma(105.15)"
   ]
  },
  {
   "cell_type": "code",
   "execution_count": 23,
   "metadata": {},
   "outputs": [],
   "source": [
    "Gamma = compute_gamma(surf, 'gamma')\n",
    "Map4.addLayer(Gamma, {'min':0.06, 'max':0.075, 'palette':pal, 'opacity': 0.8}, 'Gamma')"
   ]
  },
  {
   "cell_type": "markdown",
   "metadata": {},
   "source": [
    "## compute_delta\n",
    "\n",
    "This function computes the slope of the relationship between saturation vapour pressure and air temperature.\n",
    "See: http://www.fao.org/3/x0490e/x0490e07.htm#air%20temperature\n",
    "\n",
    "To test this function we can again use the sample image `tair`"
   ]
  },
  {
   "cell_type": "code",
   "execution_count": 24,
   "metadata": {},
   "outputs": [
    {
     "data": {
      "text/plain": [
       "0.1360154628370853"
      ]
     },
     "execution_count": 24,
     "metadata": {},
     "output_type": "execute_result"
    }
   ],
   "source": [
    "from geeet.ptjpl import compute_delta\n",
    "compute_delta(18.8569)"
   ]
  },
  {
   "cell_type": "code",
   "execution_count": 25,
   "metadata": {},
   "outputs": [],
   "source": [
    "Delta = compute_delta(tair, 'Delta')\n",
    "Map3.addLayer(Delta, {'min':0.0444, 'max':0.3107, 'palette':pal, 'opacity': 0.8}, 'Delta FAO')"
   ]
  },
  {
   "cell_type": "markdown",
   "metadata": {},
   "source": [
    "## compute_apt_delta_gamma\n",
    "\n",
    "This function computes the Priestley Taylor (PT) term `a*delta/(delta + gamma)`, where a is the Priestley-Taylor coefficient (a=1.26). Here we use the same temperature and pressure images as above. We will prepare a map with temperature and pressure for convenience of comparison."
   ]
  },
  {
   "cell_type": "code",
   "execution_count": 26,
   "metadata": {},
   "outputs": [
    {
     "data": {
      "application/vnd.jupyter.widget-view+json": {
       "model_id": "6bd4ce080e8c4b4a9b70698e96d445dc",
       "version_major": 2,
       "version_minor": 0
      },
      "text/plain": [
       "Map(center=[30.236383, 38.530867], controls=(WidgetControl(options=['position', 'transparent_bg'], widget=HBox…"
      ]
     },
     "metadata": {},
     "output_type": "display_data"
    }
   ],
   "source": [
    "Map5 = geemap.Map(center=[lonlat[1], lonlat[0]], zoom=9)\n",
    "Map5.addLayer(tair, {'min':0, 'max':35, 'palette':pal, 'opacity': 0.8}, 'Air temperature (2m)')\n",
    "Map5.addLayer(surf, {'min':90, 'max':110, 'palette':pal, 'opacity': 0.8}, 'Surface pressure (KPa)')\n",
    "Map5"
   ]
  },
  {
   "cell_type": "code",
   "execution_count": 27,
   "metadata": {},
   "outputs": [
    {
     "data": {
      "text/plain": [
       "0.7955069676459955"
      ]
     },
     "execution_count": 27,
     "metadata": {},
     "output_type": "execute_result"
    }
   ],
   "source": [
    "from geeet.ptjpl import compute_apt_delta_gamma\n",
    "compute_apt_delta_gamma(14.728, 94.9633)"
   ]
  },
  {
   "cell_type": "code",
   "execution_count": 28,
   "metadata": {},
   "outputs": [],
   "source": [
    "APT = compute_apt_delta_gamma(tair, surf, 'APT')\n",
    "Map5.addLayer(APT, {'min':0.6, 'max':0.9, 'palette':pal, 'opacity': 0.8}, 'APT term')"
   ]
  },
  {
   "cell_type": "markdown",
   "metadata": {},
   "source": [
    "## compute_LAI\n",
    "\n",
    "This function computes LAI from NDVI. We will use the same test NDVI data as above. Note: in the MEWA project, we will use our own LAI based on REGFLEC."
   ]
  },
  {
   "cell_type": "code",
   "execution_count": 29,
   "metadata": {},
   "outputs": [
    {
     "data": {
      "text/plain": [
       "2.6941472959332184"
      ]
     },
     "execution_count": 29,
     "metadata": {},
     "output_type": "execute_result"
    }
   ],
   "source": [
    "from geeet.ptjpl import compute_lai\n",
    "compute_lai(0.79)"
   ]
  },
  {
   "cell_type": "code",
   "execution_count": 30,
   "metadata": {},
   "outputs": [],
   "source": [
    "LAI = compute_lai(NDVI, band_name = 'LAI')\n",
    "Map2.addLayer(LAI, {'min':0, 'max':5, 'palette':ndvi_palette, 'opacity': 0.8}, 'LAI')"
   ]
  },
  {
   "cell_type": "markdown",
   "metadata": {},
   "source": [
    "## compute_rnc and compute_rns\n",
    "\n",
    "`compute_rns` computes the net radiation to the soil from net radiation and LAI. \n",
    "\n",
    "`compute_rnc` computes the net radiation to the canopy (residual from net radiation and rns)"
   ]
  },
  {
   "cell_type": "code",
   "execution_count": 31,
   "metadata": {},
   "outputs": [
    {
     "data": {
      "text/plain": [
       "47.63615828737228"
      ]
     },
     "execution_count": 31,
     "metadata": {},
     "output_type": "execute_result"
    }
   ],
   "source": [
    "from geeet.ptjpl import compute_rns, compute_rnc\n",
    "compute_rns(264.487, 2.857)"
   ]
  },
  {
   "cell_type": "code",
   "execution_count": 32,
   "metadata": {},
   "outputs": [
    {
     "data": {
      "text/plain": [
       "216.85100000000003"
      ]
     },
     "execution_count": 32,
     "metadata": {},
     "output_type": "execute_result"
    }
   ],
   "source": [
    "compute_rnc(264.487,47.636)"
   ]
  },
  {
   "cell_type": "markdown",
   "metadata": {},
   "source": [
    "For this test, we need some net radiation data. Let's use `surface_net_solar_radiation` from the hourly ECMWF data. "
   ]
  },
  {
   "cell_type": "code",
   "execution_count": 33,
   "metadata": {
    "scrolled": false
   },
   "outputs": [
    {
     "data": {
      "application/vnd.jupyter.widget-view+json": {
       "model_id": "7c2fe72e468148819e7461eed161f97b",
       "version_major": 2,
       "version_minor": 0
      },
      "text/plain": [
       "Map(center=[30.236383, 38.530867], controls=(WidgetControl(options=['position', 'transparent_bg'], widget=HBox…"
      ]
     },
     "metadata": {},
     "output_type": "display_data"
    }
   ],
   "source": [
    "net = 'surface_net_solar_radiation' # in J/m2 (see https://developers.google.com/earth-engine/datasets/catalog/ECMWF_ERA5_LAND_HOURLY#bands)\n",
    "rnet = climate_img.select(net).divide(3600.0*13)  # convert from J/m2 to W/m2 (this variable is accumulated from the start of the simulation - 00:00 every day)\n",
    "Map6 = geemap.Map(center=[lonlat[1], lonlat[0]], zoom=9)\n",
    "Map6.addLayer(rnet, {'min':0, 'max':500, 'palette':pal, 'opacity': 0.8}, 'Net solar radiation (W/m2)')\n",
    "Map6"
   ]
  },
  {
   "cell_type": "code",
   "execution_count": null,
   "metadata": {},
   "outputs": [],
   "source": []
  },
  {
   "cell_type": "code",
   "execution_count": 34,
   "metadata": {},
   "outputs": [],
   "source": [
    "RNS = compute_rns(rnet, LAI, 'rn soil')\n",
    "RNC = compute_rnc(rnet, RNS, 'rn canopy')\n",
    "Map6.addLayer(RNS, {'min':0, 'max':500, 'palette':pal, 'opacity': 0.8}, 'Rn soil (W/m2)')\n",
    "Map6.addLayer(RNC, {'min':0, 'max':500, 'palette':pal, 'opacity': 0.8}, 'Rn canopy (W/m2)')\n",
    "Map6.addLayer(LAI, {'min':0, 'max':5, 'palette':ndvi_palette, 'opacity': 0.8}, 'LAI')"
   ]
  },
  {
   "cell_type": "markdown",
   "metadata": {},
   "source": [
    "## compute_vpd\n",
    "\n",
    "Computes vapour pressure deficit from relative humidity and air temperature."
   ]
  },
  {
   "cell_type": "code",
   "execution_count": 35,
   "metadata": {},
   "outputs": [
    {
     "data": {
      "text/plain": [
       "3.5915606007523957"
      ]
     },
     "execution_count": 35,
     "metadata": {},
     "output_type": "execute_result"
    }
   ],
   "source": [
    "from geeet.ptjpl import compute_vpd\n",
    "compute_vpd(10.9, 29.1088)"
   ]
  },
  {
   "cell_type": "code",
   "execution_count": 36,
   "metadata": {
    "scrolled": false
   },
   "outputs": [
    {
     "data": {
      "application/vnd.jupyter.widget-view+json": {
       "model_id": "6c63160d073b4f3f9c7fae97deb0c671",
       "version_major": 2,
       "version_minor": 0
      },
      "text/plain": [
       "Map(center=[30.236383, 38.530867], controls=(WidgetControl(options=['position', 'transparent_bg'], widget=HBox…"
      ]
     },
     "metadata": {},
     "output_type": "display_data"
    }
   ],
   "source": [
    "RH = test_img.select(rh_band)\n",
    "VPD = compute_vpd(RH, tair, 'VPD')\n",
    "Map7 = geemap.Map(center=[lonlat[1], lonlat[0]], zoom=7)\n",
    "Map7.addLayer(RH, {'min':0, 'max':100, 'palette':[\"440154\",\"3a528b\",\"20908d\",\"5dc962\",\"fde725\"], 'opacity': 0.8}, 'Relative humidity')\n",
    "Map7.addLayer(tair, {'min':0, 'max':35, 'palette':pal, 'opacity': 0.8}, 'Air temperature (2m)')\n",
    "Map7.addLayer(VPD,  {'min':0, 'max':5, 'palette':pal, 'opacity': 0.8}, 'Vapour pressure deficit (kPa)')\n",
    "Map7"
   ]
  },
  {
   "cell_type": "markdown",
   "metadata": {},
   "source": [
    "## compute_fsm\n",
    "\n",
    "Computes the soil moisture constrainf \"fsm\" from RH and air temperature."
   ]
  },
  {
   "cell_type": "code",
   "execution_count": 37,
   "metadata": {},
   "outputs": [
    {
     "data": {
      "text/plain": [
       "array(0.26424006)"
      ]
     },
     "execution_count": 37,
     "metadata": {},
     "output_type": "execute_result"
    }
   ],
   "source": [
    "from geeet.ptjpl import compute_fsm\n",
    "compute_fsm(36, 17.7788)"
   ]
  },
  {
   "cell_type": "code",
   "execution_count": 38,
   "metadata": {},
   "outputs": [],
   "source": [
    "FSM = compute_fsm(RH, tair, band_name = 'Soil moisture constraint')\n",
    "Map7.addLayer(FSM, {'min':0, 'max':1, 'opacity': 0.8}, 'Soil moisture constraint')"
   ]
  },
  {
   "cell_type": "markdown",
   "metadata": {},
   "source": [
    "## compute_tnoon\n",
    "\n",
    "Computes the solar noon. \n",
    "Here we need to create a longitude representation of earth. That is easy, but we also need the \"standard meridian\". It corresponds to every 15 degrees east of the prime meridian (I think?)..\n",
    "\n",
    "Let's start by mapping longitude:"
   ]
  },
  {
   "cell_type": "code",
   "execution_count": 39,
   "metadata": {
    "scrolled": false
   },
   "outputs": [
    {
     "data": {
      "application/vnd.jupyter.widget-view+json": {
       "model_id": "0e9badab0d6e4b0e9a8440f0c7c95aa1",
       "version_major": 2,
       "version_minor": 0
      },
      "text/plain": [
       "Map(center=[30.236383, 38.530867], controls=(WidgetControl(options=['position', 'transparent_bg'], widget=HBox…"
      ]
     },
     "metadata": {},
     "output_type": "display_data"
    }
   ],
   "source": [
    "longitude = ee.Image.pixelLonLat().select('longitude')\n",
    "#utmZones = longitude.add(180).divide(6).int()\n",
    "stdMerid = longitude.add(187.5).divide(15).int().multiply(15).subtract(180)\n",
    "Map8 = geemap.Map(center=[lonlat[1], lonlat[0]], zoom=7)\n",
    "Map8.addLayer(longitude, {'min':-180, 'max':180,'opacity':0.5}, 'longitude')\n",
    "#Map8.addLayer(utmZones, {'min':0, 'max': 60}, 'UTM zones')\n",
    "Map8.addLayer(stdMerid, {'min':-180, 'max': 180,'opacity':0.7}, 'Standard meridian?')\n",
    "Map8"
   ]
  },
  {
   "cell_type": "code",
   "execution_count": 40,
   "metadata": {},
   "outputs": [
    {
     "data": {
      "text/plain": [
       "'2017 105'"
      ]
     },
     "execution_count": 40,
     "metadata": {},
     "output_type": "execute_result"
    }
   ],
   "source": [
    "date.format('yyyy DDD').getInfo()"
   ]
  },
  {
   "cell_type": "code",
   "execution_count": 41,
   "metadata": {},
   "outputs": [
    {
     "data": {
      "text/plain": [
       "12.336617624901423"
      ]
     },
     "execution_count": 41,
     "metadata": {},
     "output_type": "execute_result"
    }
   ],
   "source": [
    "from geeet.ptjpl import compute_tnoon\n",
    "compute_tnoon(39.99, 45, 105)"
   ]
  },
  {
   "cell_type": "code",
   "execution_count": 42,
   "metadata": {},
   "outputs": [],
   "source": [
    "tnoon = compute_tnoon(longitude, stdMerid, 105, band_name = 'time of solar noon')\n",
    "Map8.addLayer(tnoon, {'min':12,'max':13, 'opacity':0.7}, 'time of solar noon')"
   ]
  },
  {
   "cell_type": "markdown",
   "metadata": {},
   "source": [
    "## compute_g\n",
    "\n",
    "This function computes the soil heat flux based on Santanello and Friedl's parameterization."
   ]
  },
  {
   "cell_type": "code",
   "execution_count": 43,
   "metadata": {},
   "outputs": [
    {
     "data": {
      "text/plain": [
       "53.815986651786844"
      ]
     },
     "execution_count": 43,
     "metadata": {},
     "output_type": "execute_result"
    }
   ],
   "source": [
    "from geeet.ptjpl import compute_g\n",
    "compute_g(11, 12.3, 200)"
   ]
  },
  {
   "cell_type": "code",
   "execution_count": 44,
   "metadata": {},
   "outputs": [],
   "source": [
    "G = compute_g(11, tnoon, RNS, band_name='soil heat flux')\n",
    "Map6.addLayer(G, {'min':0,'max':500, 'palette': pal, 'opacity':0.7}, 'Soil heat flux')"
   ]
  }
 ],
 "metadata": {
  "kernelspec": {
   "display_name": "Python 3",
   "language": "python",
   "name": "python3"
  },
  "language_info": {
   "codemirror_mode": {
    "name": "ipython",
    "version": 3
   },
   "file_extension": ".py",
   "mimetype": "text/x-python",
   "name": "python",
   "nbconvert_exporter": "python",
   "pygments_lexer": "ipython3",
   "version": "3.9.2"
  }
 },
 "nbformat": 4,
 "nbformat_minor": 2
}
