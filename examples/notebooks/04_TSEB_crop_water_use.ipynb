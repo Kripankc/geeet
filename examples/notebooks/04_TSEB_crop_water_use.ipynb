{
 "cells": [
  {
   "cell_type": "markdown",
   "metadata": {},
   "source": [
    "<a href=\"https://githubtocolab.com/kaust-halo/geeet/blob/master/examples/notebooks/04_TSEB_crop_water_use.ipynb\" target=\"_parent\"><img src=\"https://colab.research.google.com/assets/colab-badge.svg\" alt=\"Open in Colab\"/></a>"
   ]
  },
  {
   "cell_type": "markdown",
   "metadata": {},
   "source": [
    "## Use the TSEB model and upscale to daily ET (mm/day)\n",
    "\n",
    "Here we apply the TSEB model to the image asset produced in the previous notebook (`03_prepare_ECMWF_L8_inputs_for_TSEB.ipynb`). We then use an upscaling model to estimate daily ET in mm/day. \n",
    "\n",
    "> note: currently the TSEB model in geeet is still experimental/under development. "
   ]
  },
  {
   "cell_type": "code",
   "execution_count": null,
   "metadata": {},
   "outputs": [],
   "source": [
    "# Use the following line to install geeet if needed:\n",
    "#!pip install git+https://github.com/kaust-halo/geeet\n",
    "# Use the following line to install geemap if needed:\n",
    "#!pip install geemap\n",
    "import ee\n",
    "ee.Initialize()"
   ]
  },
  {
   "cell_type": "markdown",
   "metadata": {},
   "source": [
    "Load the inputs image generated in the [previous notebook](https://github.com/kaust-halo/geeet/blob/main/examples/notebooks/03_prepare_ECMWF_L8_inputs_for_TSEB.ipynb) and run the TSEB model:"
   ]
  },
  {
   "cell_type": "code",
   "execution_count": 2,
   "metadata": {},
   "outputs": [],
   "source": [
    "inputs_img = ee.Image('projects/geeet-public/assets/TSEB_sample_inputs')\n",
    "from geeet.tseb import tseb_series\n",
    "et = tseb_series(inputs_img, zU=10, zT=2)"
   ]
  },
  {
   "cell_type": "markdown",
   "metadata": {},
   "source": [
    "Note that the output (LE) is instantaneous ET in $W/m2$. We can use the [Jackson et al. (1983)](<https://doi.org/10.1016/0378-3774(83)90095-1>) irradiance model for upscaling this value into daily average ET:\n",
    "$$\n",
    "ET_d \\approx ET_i R\n",
    "$$\n",
    "where R is the ratio of instantaneous to daily radiation and can be obtained as:\n",
    "$$\n",
    "R =  \\frac{2N}{2.45 \\times 10^6 \\pi \\times sin(\\pi \\times t/N)}\n",
    "$$\n",
    "where N is the number of seconds between sunset and sunrise, and t is the number of seconds between sunrise and the observation time. We also apply a 1/2.45 scaling factor to convert the values to mm/day. \n",
    "\n",
    "\n",
    "\n",
    "This is available in the `geeet.solar.rad_ratio` function:"
   ]
  },
  {
   "cell_type": "code",
   "execution_count": 3,
   "metadata": {},
   "outputs": [],
   "source": [
    "from geeet.solar import rad_ratio\n",
    "def add_ET_mm_band(img):\n",
    "    R = rad_ratio(img)\n",
    "    LE = img.select('LE')\n",
    "    ETd = LE.multiply(R).rename('ETd')\n",
    "    return img.addBands(ETd)\n",
    "\n",
    "et = add_ET_mm_band(et)"
   ]
  },
  {
   "cell_type": "markdown",
   "metadata": {},
   "source": [
    "Finally, we export the output as an asset. This will take a while, as we are exporting it at a 30m scale. You can visualize it in an interactive map with this [code editor script](https://code.earthengine.google.com/?scriptPath=users%2Flopezvoliver%2Fgeeet%3Atseb_sample_outputs_vis), or at the end of this notebook using `geemap`. "
   ]
  },
  {
   "cell_type": "code",
   "execution_count": 4,
   "metadata": {},
   "outputs": [],
   "source": [
    "# Template cell to export the output as an asset\n",
    "lonlat=[38.25,30.25]\n",
    "geom = ee.Geometry.Point(lonlat[0], lonlat[1])\n",
    "region = geom.buffer(10000) # 10-km radius around the point \n",
    "\n",
    "task = ee.batch.Export.image.toAsset(image=et,\\\n",
    "                                     description='TSEB_outputs_export',\\\n",
    "                                     assetId='projects/geeet-public/assets/TSEB_sample_outputs',\\\n",
    "                                     region=region,\\\n",
    "                                     scale=30)\n",
    "task.start()"
   ]
  },
  {
   "cell_type": "markdown",
   "metadata": {},
   "source": [
    "Interactive map (requires `geemap`). \n",
    "\n",
    "> n.b. here we load the pre-processed outputs available as an asset. If you want, you can comment the first line so that you actually use the `et` image created above - but it will be much slower to display as it will be running the computations \"on-the-fly\". "
   ]
  },
  {
   "cell_type": "code",
   "execution_count": null,
   "metadata": {},
   "outputs": [],
   "source": [
    "et = ee.Image('projects/geeet-public/assets/TSEB_sample_outputs')  # comment this line if you want to use the actual et image created above. Here we are loading a pre-computed asset. \n",
    "\n",
    "import geemap\n",
    "import geemap.colormaps as cm\n",
    "lonlat=[38.25,30.25]\n",
    "Map = geemap.Map(center=[lonlat[1], lonlat[0]], zoom=12)\n",
    "ndvi_pal = cm.palettes.ndvi\n",
    "pal = cm.palettes.YlOrRd\n",
    "pal_viridis = cm.palettes.viridis\n",
    "magPal=['f1eef6', 'd7b5d8', 'df65b0', 'dd1c77', '980043']\n",
    "purplePal=['edf8fb', 'bfd6e8', '9cacd2', '8a7cba', '87489f', '810f7c']\n",
    "\n",
    "Map.addLayer(et.select('Hc'), {'min':0, 'max':500, 'palette':magPal}, 'H from canopy (W/m2)', False)\n",
    "Map.addLayer(et.select('Hs'), {'min':0, 'max':500, 'palette':magPal}, 'H from soil (W/m2)', False)\n",
    "Map.addLayer(et.select('G'), {'min':0, 'max':500, 'palette':magPal}, 'Ground heat flux (W/m2)', False)\n",
    "Map.addLayer(et.select('Rn'), {'min':0, 'max':500, 'palette':magPal}, 'Net radiation (W/m2)')\n",
    "Map.addLayer(et.select('LEc'), {'min':0, 'max':500, 'palette':magPal}, 'LE from canopy (W/m2)')\n",
    "Map.addLayer(et.select('LEs'), {'min':0, 'max':500, 'palette':magPal}, 'LE from soil (W/m2)')\n",
    "Map.addLayer(et.select('LE'), {'min':0, 'max':500, 'palette':magPal}, 'Total LE (W/m2)')\n",
    "Map.addLayer(et.select('ETd'), {'min':0, 'max':10, 'palette':purplePal}, 'ET (mm/day)')"
   ]
  }
 ],
 "metadata": {
  "interpreter": {
   "hash": "563104533abed62ee06bb251bf36028864c8de68f4f10a11edc7fddcf9524038"
  },
  "kernelspec": {
   "display_name": "Python 3.9.6 64-bit ('geeet': conda)",
   "name": "python3"
  },
  "language_info": {
   "codemirror_mode": {
    "name": "ipython",
    "version": 3
   },
   "file_extension": ".py",
   "mimetype": "text/x-python",
   "name": "python",
   "nbconvert_exporter": "python",
   "pygments_lexer": "ipython3",
   "version": "3.9.6"
  },
  "orig_nbformat": 4
 },
 "nbformat": 4,
 "nbformat_minor": 2
}
