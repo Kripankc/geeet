{
    "cells": [
        {
            "cell_type": "markdown",
            "source": [
                "# Use `geeet.common.relative_humidity` to calcualte relative humidity \r\n",
                "\r\n",
                "In this notebook we calculate relative humidity for the ECMWF land-hourly dataset using the `temperature_2m`, `dewpoint_temperature_2m`, and `surface_pressure` bands. The calculations are based on equations 7.4, 7.5, 7.91, and 7.93 (for water only - not ice) in [PART IV: PHYSICAL PROCESSED of the ECMWF IFS documentation](https://www.ecmwf.int/sites/default/files/elibrary/2016/17117-part-iv-physical-processes.pdf#subsection.7.2.1). "
            ],
            "metadata": {}
        },
        {
            "cell_type": "code",
            "execution_count": 1,
            "source": [
                "import geemap\r\n",
                "geemap.ee_initialize()\r\n",
                "import ee\r\n",
                "\r\n",
                "date_start = ee.Date('2019-06-01')\r\n",
                "date_end = date_start.advance(1, 'month')\r\n",
                "lonlat = [0, 0]\r\n",
                "geom = ee.Geometry.Point(lonlat[0], lonlat[1])\r\n",
                "\r\n",
                "\r\n",
                "## Relative humidity from another dataset (to compare)\r\n",
                "RH_collection = ee.ImageCollection('NOAA/GFS0P25').select('relative_humidity_2m_above_ground') # in % (0-100)\r\n",
                "\r\n",
                "## ECMWF collection \r\n",
                "# https://developers.google.com/earth-engine/datasets/catalog/ECMWF_ERA5_LAND_HOURLY#bands)\r\n",
                "bands_to_keep = ee.List(['temperature_2m', 'dewpoint_temperature_2m', 'surface_pressure'])\r\n",
                "bands_to_rename = ee.List(['temperature', 'dewpoint_temperature', 'surface_pressure']) # see geeet.common.relative_humidity \r\n",
                "# and related functions. \r\n",
                "Meteo_collection = ee.ImageCollection('ECMWF/ERA5_LAND/HOURLY') \\\r\n",
                "    .filterDate(date_start, date_end) \\\r\n",
                "        .filterBounds(geom) \\\r\n",
                "            .select(bands_to_keep, bands_to_rename)\r\n",
                "\r\n",
                "from geeet.common import relative_humidity\r\n",
                "\r\n",
                "Meteo_collection = Meteo_collection.map(relative_humidity)\r\n",
                "\r\n",
                "Map = geemap.Map(center=[lonlat[1], lonlat[0]], zoom=3)\r\n",
                "import geemap.colormaps as cm\r\n",
                "pal_viridis = cm.palettes.viridis\r\n",
                "\r\n",
                "test_img = Meteo_collection.filter(ee.Filter.eq(\"system:index\", \"20190602T12\"))\r\n",
                "compare_img = RH_collection.filter(ee.Filter.eq(\"system:index\", \"2019060212F000\")).first()\r\n",
                "\r\n",
                "Map.addLayer(compare_img, {'min':0, 'max':100, 'palette': pal_viridis}, 'Reference RH')\r\n",
                "Map.addLayer(test_img.select('relative_humidity'), {'min':0, 'max':100, 'palette': pal_viridis}, 'Computed RH')\r\n",
                "\r\n",
                "Map\r\n"
            ],
            "outputs": [
                {
                    "output_type": "display_data",
                    "data": {
                        "text/plain": [
                            "Map(center=[0, 0], controls=(WidgetControl(options=['position', 'transparent_bg'], widget=HBox(children=(Toggl…"
                        ],
                        "application/vnd.jupyter.widget-view+json": {
                            "version_major": 2,
                            "version_minor": 0,
                            "model_id": "9e7a891d4ed5449ab0ec2c910e3fe921"
                        }
                    },
                    "metadata": {}
                }
            ],
            "metadata": {}
        }
    ],
    "metadata": {
        "orig_nbformat": 4,
        "language_info": {
            "name": "python",
            "version": "3.9.6",
            "mimetype": "text/x-python",
            "codemirror_mode": {
                "name": "ipython",
                "version": 3
            },
            "pygments_lexer": "ipython3",
            "nbconvert_exporter": "python",
            "file_extension": ".py"
        },
        "kernelspec": {
            "name": "python3",
            "display_name": "Python 3.9.6 64-bit ('geeet': conda)"
        },
        "interpreter": {
            "hash": "563104533abed62ee06bb251bf36028864c8de68f4f10a11edc7fddcf9524038"
        }
    },
    "nbformat": 4,
    "nbformat_minor": 2
}