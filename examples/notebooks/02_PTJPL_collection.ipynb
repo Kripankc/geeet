{
 "cells": [
  {
   "cell_type": "markdown",
   "source": [
    "## Mapping the PT-JPL model to an Image collection and upscaling to daily ET (mm/day)\r\n",
    "\r\n",
    "Here we apply the PT-JPL model to an `ee.ImageCollection` and then use an upscaling model to estimate daily ET in mm/day. \r\n",
    "\r\n",
    "### Meterological data\r\n",
    "\r\n",
    "In this example we will use data form the [ERA5-Land hourly - ECMWF climate reanalysis](https://developers.google.com/earth-engine/datasets/catalog/ECMWF_ERA5_LAND_HOURLY?hl=en) image collection. Specifically, we will use the air temperature, surface pressure, dewpoint temperature and net radiation bands. \r\n",
    "\r\n",
    ">RA5-Land is a reanalysis dataset providing a consistent view of the evolution of land variables over several decades at an enhanced resolution compared to ERA5. ERA5-Land has been produced by replaying the land component of the ECMWF ERA5 climate reanalysis. Reanalysis combines model data with observations from across the world into a globally complete and consistent dataset using the laws of physics. Reanalysis produces data that goes several decades back in time, providing an accurate description of the climate of the past. This dataset includes all 50 variables as available on CDS."
   ],
   "metadata": {}
  },
  {
   "cell_type": "code",
   "execution_count": 1,
   "source": [
    "import geemap\r\n",
    "geemap.ee_initialize()\r\n",
    "import ee\r\n",
    "\r\n",
    "date_start = ee.Date('2019-06-01')\r\n",
    "date_end = date_start.advance(1, 'year')\r\n",
    "\r\n",
    "## ECMWF collection \r\n",
    "# https://developers.google.com/earth-engine/datasets/catalog/ECMWF_ERA5_LAND_HOURLY#bands)\r\n",
    "bands_to_keep = ee.List(['temperature_2m', 'dewpoint_temperature_2m', 'surface_pressure', 'surface_net_solar_radiation_hourly'])\r\n",
    "bands_to_rename = ee.List(['temperature', 'dewpoint_temperature', 'surface_pressure', 'net_radiation_hourly']) # do not change these -> see geeet.common.relative_humidity \r\n",
    "\r\n",
    "Meteo_collection = ee.ImageCollection('ECMWF/ERA5_LAND/HOURLY') \\\r\n",
    "    .filterDate(date_start, date_end) \\\r\n",
    "            .select(bands_to_keep, bands_to_rename)\r\n",
    "            \r\n",
    "# Add relative humidity to the collection: \r\n",
    "from geeet.common import relative_humidity\r\n",
    "Meteo_collection = Meteo_collection.map(relative_humidity)  # in % \r\n",
    "\r\n",
    "# Adjust the units for the geeet.ptjpl model:\r\n",
    "def K_to_C(img):\r\n",
    "    T = img.select('temperature').subtract(273.15).rename('temperature_C')\r\n",
    "    return img.addBands(T)\r\n",
    "\r\n",
    "def Pa_to_KPa(img):\r\n",
    "    P = img.select('surface_pressure').divide(1000.0).rename('surface_pressure_KPa')\r\n",
    "    return img.addBands(P)\r\n",
    "\r\n",
    "def J_to_W(img):\r\n",
    "    R = img.select('net_radiation_hourly').divide(3600.0).rename('net_radiation')\r\n",
    "    return img.addBands(R)\r\n",
    "\r\n",
    "Meteo_collection = Meteo_collection.map(K_to_C)\r\n",
    "Meteo_collection = Meteo_collection.map(Pa_to_KPa)\r\n",
    "Meteo_collection = Meteo_collection.map(J_to_W)\r\n",
    "Meteo_collection = Meteo_collection.select('relative_humidity', 'temperature_C', 'surface_pressure_KPa', 'net_radiation')"
   ],
   "outputs": [],
   "metadata": {}
  },
  {
   "cell_type": "markdown",
   "source": [
    "### Satellite imagery\r\n",
    "\r\n",
    "We will use Sentinel-2 data to calculate NDVI."
   ],
   "metadata": {}
  },
  {
   "cell_type": "code",
   "execution_count": 2,
   "source": [
    "S2_collection = ee.ImageCollection('COPERNICUS/S2_SR')\\\r\n",
    "    .filter(ee.Filter.lt('CLOUDY_PIXEL_PERCENTAGE', 5)) \\\r\n",
    "        .sort('system:time_start')\r\n",
    "\r\n",
    "# Let's specify a coordinate so we limit our collection to one S2 tile\r\n",
    "lonlat=[38.25, 30.25] \r\n",
    "geom = ee.Geometry.Point(lonlat[0], lonlat[1]) # lon/lat\r\n",
    "S2_collection = S2_collection.filterBounds(geom)\r\n",
    "\r\n",
    "def compute_ndvi(img):\r\n",
    "    toa = img.divide(10000.)\r\n",
    "    NDVI = toa.normalizedDifference(['B8', 'B4']).rename('NDVI')\r\n",
    "    return img.addBands(NDVI)\r\n",
    "\r\n",
    "NDVI_collection = S2_collection.map(compute_ndvi).select('NDVI')"
   ],
   "outputs": [],
   "metadata": {}
  },
  {
   "cell_type": "markdown",
   "source": [
    "We will also calculat `fapar_max`, the maximum values of the photosynthetic active radiation (PAR) absorbed by green vegetation cover. We can use a longer date range to calculate an appropriate value here. "
   ],
   "metadata": {}
  },
  {
   "cell_type": "code",
   "execution_count": 3,
   "source": [
    "NDVI_longer = NDVI_collection.filterDate(date_start.advance(-3,'year'), date_start.advance(-1,'year'))\r\n",
    "NDVI_study = NDVI_collection.filterDate(date_start, date_end)\r\n",
    "from geeet.ptjpl import add_fapar\r\n",
    "NDVI_longer = NDVI_longer.map(add_fapar)\r\n",
    "fapar_max = NDVI_longer.select('fapar').reduce(ee.Reducer.max())\r\n",
    "\r\n",
    "# Finally, we will add fapar_max as a band to every image in our NDVI_collection:\r\n",
    "def add_faparmax(img):\r\n",
    "    return img.addBands(fapar_max)\r\n",
    "\r\n",
    "NDVI_study = NDVI_study.map(add_faparmax)"
   ],
   "outputs": [],
   "metadata": {}
  },
  {
   "cell_type": "markdown",
   "source": [
    "### Merging the satellite and meteo collections\r\n",
    "\r\n",
    "The `NDVI_study` should have 9 images here, while the `Meteo_collection` should have 720 (hourly data for 30 days). The next step is to merge the collections so that we have only 9 images with the correct meteorological data. \r\n",
    "\r\n",
    "In this example, we note that the ECMWF data has three properties with the datetime: `system:time_start` (in milliseconds), `system:time_end` (in milliseconds), and `system:index` (in the format YYYYDDMMTHH). For now, the latter will be useful to apply a filter. \r\n",
    "\r\n",
    "We also note that the Sentinel-2 data has two properties named `system:time_start` and `system:time_end` in milliseconds, but they contain the same values. However, we can set a new property with the datetime in the same format as the ECMWF data, and then apply the filter based on this datetime. "
   ],
   "metadata": {}
  },
  {
   "cell_type": "code",
   "execution_count": 4,
   "source": [
    "# Set a new property for the S2_collection with the datetime in the same format as the \"system:index\" property in the Meteo_collection\r\n",
    "def add_datetime_property(img):\r\n",
    "    d = img.get(\"system:time_start\")\r\n",
    "    d_parsed = ee.Date(d).format(\"yyyyMMdd'T'HH\")\r\n",
    "    img = img.set('system:datetime', d_parsed)\r\n",
    "    return img\r\n",
    "\r\n",
    "NDVI_study = NDVI_study.map(add_datetime_property)\r\n",
    "\r\n",
    "# Now we can make an inner join by filtering this property:\r\n",
    "s2_join = ee.Join.inner()\r\n",
    "s2_filter = ee.Filter.equals(leftField='system:datetime', rightField='system:index')\r\n",
    "s2_innerjoin = ee.ImageCollection(s2_join.apply(NDVI_study, Meteo_collection, s2_filter))\r\n",
    "def get_img(feature):\r\n",
    "    return ee.Image.cat(feature.get('primary'), feature.get('secondary'))\r\n",
    "\r\n",
    "et_inputs = s2_innerjoin.map(get_img)"
   ],
   "outputs": [],
   "metadata": {}
  },
  {
   "cell_type": "markdown",
   "source": [
    "### Date and time \r\n",
    "\r\n",
    "Finally, each image must have two named properties: `doy` (the day of the year) and `time`: the local time of observation. "
   ],
   "metadata": {}
  },
  {
   "cell_type": "code",
   "execution_count": 5,
   "source": [
    "# We can obtain both from the system:time_start property, \r\n",
    "# but for the time we need to provide the offset for local time, e.g., for Saudi Arabia this offset is +3. \r\n",
    "time_offset = 3\r\n",
    "def add_datetime_properties(img):\r\n",
    "    d = ee.Date(img.date())\r\n",
    "    doy = d.getRelative('day','year').add(1)  # from 0-based to 1-based. \r\n",
    "    time = d.getRelative('hour', 'day').add(time_offset)  \r\n",
    "    img = img.set('doy', doy)\r\n",
    "    img = img.set('time', time)\r\n",
    "    return img\r\n",
    "\r\n",
    "et_inputs = et_inputs.map(add_datetime_properties)"
   ],
   "outputs": [],
   "metadata": {}
  },
  {
   "cell_type": "markdown",
   "source": [
    "With the `et_inputs` prepared, we can now map the `geeet.ptjpl_arid` model:"
   ],
   "metadata": {}
  },
  {
   "cell_type": "code",
   "execution_count": 6,
   "source": [
    "from geeet.ptjpl import ptjpl_arid\r\n",
    "et_outputs = et_inputs.map(ptjpl_arid)"
   ],
   "outputs": [],
   "metadata": {}
  },
  {
   "cell_type": "markdown",
   "source": [
    "Note that the output (LE) is instantaneous ET in $W/m2$. We can use the [Jackson et al. (1983)](\"https://doi.org/10.1016/0378-3774(83)90095-1\") irradiance model for upscaling this value into daily average ET:\r\n",
    "$$\r\n",
    "ET_d \\approx ET_i R\r\n",
    "$$\r\n",
    "where R is the ratio of instantaneous to daily radiation and can be obtained as:\r\n",
    "$$\r\n",
    "R =  \\frac{2N}{2.45 \\times 10^6 \\pi \\times sin(\\pi \\times t/N)}\r\n",
    "$$\r\n",
    "where N is the number of seconds between sunset and sunrise, and t is the number of seconds between sunrise and the observation time. We also apply a 1/2.45 scaling factor to convert the values to mm/day. \r\n",
    "\r\n",
    "\r\n",
    "\r\n",
    "This is available in the `geeet.common.rad_ratio` function:"
   ],
   "metadata": {}
  },
  {
   "cell_type": "code",
   "execution_count": 7,
   "source": [
    "from geeet.common import rad_ratio\r\n",
    "def add_ET_mm_band(img):\r\n",
    "    R = rad_ratio(img)\r\n",
    "    LE = img.select('LE')\r\n",
    "    ETd = LE.multiply(R).rename('ETd')\r\n",
    "    return img.addBands(ETd)\r\n",
    "\r\n",
    "et_outputs = et_outputs.map(add_ET_mm_band)"
   ],
   "outputs": [],
   "metadata": {}
  },
  {
   "cell_type": "markdown",
   "source": [
    "Note that the computations on the GEE servers are done only upon requesting data, for example, adding the data to a map. I.e., the Map on this next cell will take some time to load. "
   ],
   "metadata": {}
  },
  {
   "cell_type": "code",
   "execution_count": 8,
   "source": [
    "Map = geemap.Map(center=[lonlat[1], lonlat[0]], zoom=12)\r\n",
    "import geemap.colormaps as cm\r\n",
    "ndvi_pal = cm.palettes.ndvi\r\n",
    "pal = cm.palettes.YlOrRd\r\n",
    "pal_viridis = cm.palettes.viridis\r\n",
    "#Map.addLayer(et_inputs.select('relative_humidity'), {'min':0, 'max':100, 'palette':[\"440154\",\"3a528b\",\"20908d\",\"5dc962\",\"fde725\"], 'opacity': 0.8}, 'Relative humidity', False)\r\n",
    "#Map.addLayer(et_inputs.select('temperature_C'), {'min':0, 'max':35, 'palette':pal, 'opacity': 0.8}, 'Air temperature (2m)', False)\r\n",
    "#Map.addLayer(et_inputs.select('surface_pressure_KPa'), {'min':90, 'max':110, 'palette':pal, 'opacity': 0.8}, 'Surface pressure (KPa)', False)\r\n",
    "#Map.addLayer(et_inputs.select('net_radiation'), {'min':0, 'max':500, 'palette':pal, 'opacity': 0.8}, 'Net solar radiation (W/m2)', False)\r\n",
    "Map.addLayer(et_inputs.select('NDVI'), {'min':0, 'max':1, 'palette':ndvi_pal, 'opacity': 0.8}, 'NDVI')\r\n",
    "#Map.addLayer(et_inputs.select('fapar_max'), {'min':0, 'max':1, 'palette':pal, 'opacity': 0.8}, 'F_aparmax', False)\r\n",
    "#Map.addLayer(et_outputs.select(['H']), {'min':0, 'max':500, 'palette':pal_viridis, 'opacity': 0.8}, 'Sensible heat flux', False)\r\n",
    "#Map.addLayer(et_outputs.select(['G']), {'min':0, 'max':500, 'palette':pal_viridis, 'opacity': 0.8}, 'Ground heat flux', False)\r\n",
    "#Map.addLayer(et_outputs.select(['LEs']), {'min':0, 'max':500, 'palette':pal_viridis, 'opacity': 0.8}, 'LE soil', False)\r\n",
    "#Map.addLayer(et_outputs.select(['LEc']), {'min':0, 'max':500, 'palette':pal_viridis, 'opacity': 0.8}, 'LE canopy', False)\r\n",
    "#Map.addLayer(et_outputs.select(['LEi']), {'min':0, 'max':500, 'palette':pal_viridis, 'opacity': 0.8}, 'LE interception', False)\r\n",
    "Map.addLayer(et_outputs.select(['LE']), {'min':0, 'max':500, 'palette':pal_viridis, 'opacity': 0.8}, 'LE')\r\n",
    "Map.addLayer(et_outputs.select(['ETd']), {'min':0, 'max':5, 'palette':pal_viridis, 'opacity': 0.8}, 'Daily ET (mm/day)')\r\n",
    "Map"
   ],
   "outputs": [
    {
     "output_type": "display_data",
     "data": {
      "text/plain": [
       "Map(center=[30.25, 38.25], controls=(WidgetControl(options=['position', 'transparent_bg'], widget=HBox(childre…"
      ],
      "application/vnd.jupyter.widget-view+json": {
       "version_major": 2,
       "version_minor": 0,
       "model_id": "e43e324708d0454bb56f8af35edbac70"
      }
     },
     "metadata": {}
    }
   ],
   "metadata": {}
  }
 ],
 "metadata": {
  "orig_nbformat": 4,
  "language_info": {
   "name": "python",
   "version": "3.9.6",
   "mimetype": "text/x-python",
   "codemirror_mode": {
    "name": "ipython",
    "version": 3
   },
   "pygments_lexer": "ipython3",
   "nbconvert_exporter": "python",
   "file_extension": ".py"
  },
  "kernelspec": {
   "name": "python3",
   "display_name": "Python 3.9.6 64-bit ('geeet': conda)"
  },
  "interpreter": {
   "hash": "563104533abed62ee06bb251bf36028864c8de68f4f10a11edc7fddcf9524038"
  }
 },
 "nbformat": 4,
 "nbformat_minor": 2
}