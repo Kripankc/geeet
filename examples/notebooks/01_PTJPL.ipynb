{
 "cells": [
  {
   "cell_type": "markdown",
   "id": "armed-finder",
   "metadata": {},
   "source": [
    "# Run PT-JPL model adapted for arid lands \n",
    "\n",
    "This notebook demonstrates the use of `geeet.ptjpl` - a module to compute evaporation components (ET, or crop water use) using the PT-JPL model combined with satellite and climate reanalysis data from Google Earth Engine (GEE). \n",
    "\n",
    "To use this notebook, you will need to install [geemap](https://geemap.org/installation/)."
   ]
  },
  {
   "cell_type": "code",
   "execution_count": 1,
   "id": "eight-technical",
   "metadata": {},
   "outputs": [],
   "source": [
    "import geemap\n",
    "geemap.ee_initialize()\n",
    "import ee"
   ]
  },
  {
   "cell_type": "markdown",
   "id": "neutral-interstate",
   "metadata": {},
   "source": [
    "## GEE data\n",
    "\n",
    "In this demonstration, we use data from the [ECMWF/ERA5_LAND/HOURLY](https://developers.google.com/earth-engine/datasets/catalog/ECMWF_ERA5_LAND_HOURLY#bands), [NOAA/GFS0P25](https://developers.google.com/earth-engine/datasets/catalog/NOAA_GFS0P25#bands), and [MODIS/MCD43A4_006_NDVI](https://developers.google.com/earth-engine/datasets/catalog/MODIS_MCD43A4_006_NDVI) datasets. Below we define the images and visualize them on a map:"
   ]
  },
  {
   "cell_type": "code",
   "execution_count": 2,
   "id": "industrial-apparel",
   "metadata": {
    "scrolled": false
   },
   "outputs": [
    {
     "data": {
      "application/vnd.jupyter.widget-view+json": {
       "model_id": "90f51a669b1340f0bba0bf4c37ce444c",
       "version_major": 2,
       "version_minor": 0
      },
      "text/plain": [
       "Map(center=[30.236383, 38.530867], controls=(WidgetControl(options=['position', 'transparent_bg'], widget=HBox…"
      ]
     },
     "metadata": {},
     "output_type": "display_data"
    }
   ],
   "source": [
    "date_time_str='2017-04-15T13:00:00' \n",
    "date_time = ee.Date(date_time_str)\n",
    "\n",
    "lonlat=[38.530867, 30.236383] \n",
    "date = ee.Date(date_time)\n",
    "geom = ee.Geometry.Point(lonlat[0], lonlat[1]) # lon/lat\n",
    "\n",
    "RH = ee.Image(\n",
    "  ee.ImageCollection('NOAA/GFS0P25')\n",
    "    .filterBounds(geom)\n",
    "    .filterDate(date,date.advance(1,'month'))\n",
    "    .sort('system:time_start')\n",
    "    .first()\n",
    "  ).select('relative_humidity_2m_above_ground')\n",
    "\n",
    "era5_img = ee.Image(\n",
    "  ee.ImageCollection('ECMWF/ERA5_LAND/HOURLY')\n",
    "    .filterBounds(geom)\n",
    "    .filterDate(date,date.advance(1,'hour'))\n",
    "    .sort('system:time_start')\n",
    "    .first()\n",
    "  )\n",
    "NDVI = ee.ImageCollection('MODIS/MCD43A4_006_NDVI') \\\n",
    "                  .filter(ee.Filter.date('2018-04-01', '2018-05-01')).first() \\\n",
    "                  .select(\"NDVI\")\n",
    "\n",
    "NDVI_one_year = ee.ImageCollection('MODIS/MCD43A4_006_NDVI') \\\n",
    "                  .filter(ee.Filter.date('2016-01-01', '2016-12-01')) \\\n",
    "                  .select(\"NDVI\")\n",
    "# NDVI_one_year will be used to compute f_aparmax:\n",
    "from geeet.ptjpl import add_fapar\n",
    "fapar_max = NDVI_one_year.map(add_fapar).select('fapar').reduce(ee.Reducer.max())\n",
    "\n",
    "t2m = 'temperature_2m' # in K\n",
    "sfp = 'surface_pressure' # in Pa (see https://developers.google.com/earth-engine/datasets/catalog/ECMWF_ERA5_LAND_HOURLY#bands)\n",
    "net = 'surface_net_solar_radiation' # in J/m2 (see https://developers.google.com/earth-engine/datasets/catalog/ECMWF_ERA5_LAND_HOURLY#bands)\n",
    "\n",
    "tair = era5_img.select(t2m).subtract(273.15) # in celsius\n",
    "surf = era5_img.select(sfp).divide(1000.0)  # convert from Pa to Kpa \n",
    "rnet = era5_img.select(net).divide(3600.0*13)  # convert from J/m2 to W/m2 (this variable is accumulated from the start of the simulation - 00:00 every day)\n",
    "\n",
    "\n",
    "import geemap.colormaps as cm\n",
    "ndvi_pal = cm.palettes.ndvi\n",
    "pal = cm.palettes.YlOrRd\n",
    "pal_viridis = cm.palettes.viridis\n",
    "\n",
    "Map = geemap.Map(center=[lonlat[1], lonlat[0]], zoom=10)\n",
    "Map.addLayer(RH, {'min':0, 'max':100, 'palette':[\"440154\",\"3a528b\",\"20908d\",\"5dc962\",\"fde725\"], 'opacity': 0.8}, 'Relative humidity')\n",
    "Map.addLayer(tair, {'min':0, 'max':35, 'palette':pal, 'opacity': 0.8}, 'Air temperature (2m)')\n",
    "Map.addLayer(surf, {'min':90, 'max':110, 'palette':pal, 'opacity': 0.8}, 'Surface pressure (KPa)')\n",
    "Map.addLayer(rnet, {'min':0, 'max':500, 'palette':pal, 'opacity': 0.8}, 'Net solar radiation (W/m2)')\n",
    "Map.addLayer(NDVI, {'min':0, 'max':1, 'palette':ndvi_pal, 'opacity': 0.8}, 'NDVI')\n",
    "Map.addLayer(fapar_max, {'min':0, 'max':1, 'palette':pal, 'opacity': 0.8}, 'F_aparmax')\n",
    "\n",
    "Map"
   ]
  },
  {
   "cell_type": "markdown",
   "id": "verified-lending",
   "metadata": {},
   "source": [
    "## Run the PT-JPL model\n",
    "\n",
    "We now run the model and add the results to the map:"
   ]
  },
  {
   "cell_type": "code",
   "execution_count": 3,
   "id": "expected-lemon",
   "metadata": {},
   "outputs": [],
   "source": [
    "from geeet.ptjpl import ptjpl_arid\n",
    "# eot_params: Day of year, time\n",
    "ET = ptjpl_arid(RH, tair, surf, rnet, NDVI, fapar_max, eot_params=[105,11],band_names=['LE', 'LEc', 'LEs', 'LEi', 'H', 'G', 'Rn'])\n",
    "Map.addLayer(ET.select(['H']), {'min':0, 'max':500, 'palette':pal_viridis, 'opacity': 0.8}, 'Sensible heat flux')\n",
    "Map.addLayer(ET.select(['G']), {'min':0, 'max':500, 'palette':pal_viridis, 'opacity': 0.8}, 'Ground heat flux')\n",
    "Map.addLayer(ET.select(['Rn']), {'min':0, 'max':500, 'palette':pal_viridis, 'opacity': 0.8}, 'Net radiation')\n",
    "Map.addLayer(ET.select(['LEs']), {'min':0, 'max':500, 'palette':pal_viridis, 'opacity': 0.8}, 'LE soil')\n",
    "Map.addLayer(ET.select(['LEc']), {'min':0, 'max':500, 'palette':pal_viridis, 'opacity': 0.8}, 'LE canopy')\n",
    "Map.addLayer(ET.select(['LEi']), {'min':0, 'max':500, 'palette':pal_viridis, 'opacity': 0.8}, 'LE interception')\n",
    "Map.addLayer(ET.select(['LE']), {'min':0, 'max':500, 'palette':pal_viridis, 'opacity': 0.8}, 'LE')"
   ]
  },
  {
   "cell_type": "markdown",
   "id": "reserved-bandwidth",
   "metadata": {},
   "source": [
    "Use the inspector (i) tool in the map above to display the values for one pixel. Then copy the values for the inputs below to run the model with numerical values - this is useful to double check the outputs in the image. It also demonstrates the hybrid nature of the function - if given numbers, it returns numbers, if given ee.Images, it returns ee.Images. "
   ]
  },
  {
   "cell_type": "code",
   "execution_count": 4,
   "id": "conditional-arena",
   "metadata": {},
   "outputs": [
    {
     "data": {
      "text/plain": [
       "array([[[252.98803983, 249.11129308,   2.76511389,   1.11163285,\n",
       "          98.33587747,  23.4877827 , 374.8117    ]]])"
      ]
     },
     "execution_count": 4,
     "metadata": {},
     "output_type": "execute_result"
    }
   ],
   "source": [
    "# eot_params: Day of year, time, longitude, standard meridian\n",
    "ptjpl_arid(RH=25.3, Temp_C=24.3442, Press=94.524, Rn=374.8117, NDVI=0.7588, F_aparmax=0.7295, eot_params=[105,11, 38.4381,45])    \n",
    "# The returned values are LE, LEc, LEs, LEi, H, G, Rn"
   ]
  },
  {
   "cell_type": "markdown",
   "id": "vertical-joshua",
   "metadata": {},
   "source": [
    "Example output of the inspector tool:\n",
    "```\n",
    "Point (38.4381, 30.1938) at 38m/px\n",
    "Relative humidity: Image (1 band)\n",
    "  relative_humidity_2m_above_ground: 25.30000114440918\n",
    "Air temperature (2m): Image (1 band)\n",
    "  temperature_2m: 24.344262695312523\n",
    "Surface pressure (KPa): Image (1 band)\n",
    "  surface_pressure: 94.52407421875\n",
    "Net solar radiation (W/m2): Image (1 band)\n",
    "  surface_net_solar_radiation: 374.81166666666667\n",
    "NDVI: Image (1 band)\n",
    "  NDVI: 0.7588107585906982\n",
    "F_aparmax: Image (1 band)\n",
    "  fapar_max: 0.7295318901538849\n",
    "Sensible heat flux: Image (1 band)\n",
    "  H: 98.33337358552566\n",
    "Ground heat flux: Image (1 band)\n",
    "  G: 23.486755569509857\n",
    "Net radiation: Image (1 band)\n",
    "  Rn: 374.81166666666667\n",
    "LE soil: Image (1 band)\n",
    "  LEs: 2.764964916235911\n",
    "LE canopy: Image (1 band)\n",
    "  LEc: 249.11492649022074\n",
    "LE interception: Image (1 band)\n",
    "  LEi: 1.1116481816579635\n",
    "LE: Image (1 band)\n",
    "  LE: 252.9915395881146\n",
    "```"
   ]
  },
  {
   "cell_type": "markdown",
   "id": "smaller-output",
   "metadata": {},
   "source": [
    "## References\n",
    "\n",
    "    Allen, R.G., Pereira, L.S., Raes, D., Smith, M. \n",
    "        Crop evapotranspiration —guidelines for computing crop water requirements\n",
    "        (1998) FAO Irrigation and drainage paper 56. Food and Agriculture \n",
    "        Organization, Rome, pp. 35-39. \n",
    "        http://www.fao.org/docrep/x0490e/x0490e00.htm\n",
    "\n",
    "    Aragon, B., Houborg, R., Tu, K., Fisher, J.B., McCabe, M.\n",
    "        Cubesats enable high spatiotemporal retrievals of crop-water use for \n",
    "        precision agriculture (2018)\n",
    "        Remote Sensing, 10 (12), art. no. 1867.\n",
    "        http://dx.doi.org/10.3390/rs10121867   \n",
    "\n",
    "    Campbell, G. S., & Norman, J. M.\n",
    "        Introduction to environmental biophysics (2nd ed.) (1998)\n",
    "        New York: Springer, pp. 168-169\n",
    "        http://dx.doi.org/10.1007/978-1-4612-1626-1\n",
    "\n",
    "    Carlson, T.N., Capehart, W.J., Gillies, R.R.\n",
    "        A new look at the simplified method for remote sensing of daily \n",
    "        evapotranspiration (1995) \n",
    "        Remote Sensing of Environment, 54 (2), pp. 161-167.\n",
    "        http://dx.doi.org/10.1016/0034-4257(95)00139-R\n",
    "        \n",
    "    Choudhury, B.J., Ahmed, N.U., Idso, S.B., Reginato, R.J., Daughtry, C.S.T.\n",
    "        Relations between evaporation coefficients and vegetation indices \n",
    "        studied by model simulations (1994) \n",
    "        Remote Sensing of Environment, 50 (1), pp. 1-17.\n",
    "        http://dx.doi.org/10.1016/0034-4257(94)90090-6\n",
    "        \n",
    "    Fisher, J.B., Tu, K.P., Baldocchi, D.D.\n",
    "        Global estimates of the land-atmosphere water flux based on monthly\n",
    "        AVHRR and ISLSCP-II data, validated at 16 FLUXNET sites (2008)\n",
    "        Remote Sensing of Environment, 112 (3), pp. 901-919.\n",
    "        http://dx.doi.org/10.1016/j.rse.2007.06.025\n",
    "\n",
    "    Potter, C.S., Randerson, J.T., Field, C.B., Matson, P.A., Vitousek, P.M.,\n",
    "    Mooney, H.A., Klooster, S.A.\n",
    "        Terrestrial ecosystem production: A process model based on global \n",
    "        satellite and surface data (1993) \n",
    "        Global Biogeochemical Cycles, 7 (4), pp. 811-841. \n",
    "        http://dx.doi.org/10.1029/93GB02725\n",
    "        \n",
    "    Priestley, C.H.B. and Taylor, R.J.\n",
    "        On the Assessment of Surface Heat Flux and Evaporation Using Large Scale \n",
    "        Parameters (1972) Monthly Weather Review, 100, 81-92.\n",
    "        http://dx.doi.org/10.1175/1520-0493(1972)100<0081:OTAOSH>2.3.CO;2\n",
    "        \n",
    "    Joseph A. Santanello Jr. and Mark A. Friedl.\n",
    "        Diurnal Covariation in Soil Heat Flux and Net Radiation (2003)\n",
    "        J. Appl. Meteor., 42, pp. 851-862.\n",
    "        Remote Sensing of Environment, 112 (3), pp. 901-919.\n",
    "        http://dx.doi.org/10.1175/1520-0450(2003)042<0851:DCISHF>2.0.CO;2"
   ]
  }
 ],
 "metadata": {
  "kernelspec": {
   "display_name": "Python 3",
   "language": "python",
   "name": "python3"
  },
  "language_info": {
   "codemirror_mode": {
    "name": "ipython",
    "version": 3
   },
   "file_extension": ".py",
   "mimetype": "text/x-python",
   "name": "python",
   "nbconvert_exporter": "python",
   "pygments_lexer": "ipython3",
   "version": "3.9.2"
  }
 },
 "nbformat": 4,
 "nbformat_minor": 5
}